{
 "cells": [
  {
   "cell_type": "markdown",
   "metadata": {
    "id": "6IyxbPGEzgT_"
   },
   "source": [
    "# Post-Processing Calibration Results\n",
    "\n",
    "Use this script to load and plot calibration results."
   ]
  },
  {
   "cell_type": "markdown",
   "metadata": {
    "id": "3sL3NihFzouR"
   },
   "source": [
    "## Setup\n",
    "\n",
    "First, you will need to load all necessary libraries, set up your access to google drive, and load necessary functions. \n",
    "\n"
   ]
  },
  {
   "cell_type": "code",
   "execution_count": null,
   "metadata": {
    "id": "8l6rtE65zY7c"
   },
   "outputs": [],
   "source": [
    "# Load necessary libraries\n",
    "import collections\n",
    "import sys\n",
    "import textwrap\n",
    "import math\n",
    "import csv\n",
    "import numpy as np \n",
    "import statistics as stat\n",
    "import pandas as pd\n",
    "from matplotlib import pyplot as plt\n",
    "from sklearn.cluster import KMeans\n",
    "from scipy.optimize import curve_fit\n",
    "import utils as ut"
   ]
  },
  {
   "cell_type": "markdown",
   "metadata": {
    "id": "8rdIzo-H1op_"
   },
   "source": [
    "## Define Paths\n",
    "\n",
    "`path` is the location of your csv files\n",
    "\n",
    "`path_itr` is the location of your iteration files (only needed if you'd like to look at the convergence of error)"
   ]
  },
  {
   "cell_type": "code",
   "execution_count": null,
   "metadata": {
    "id": "8AHQYbIK0gI5"
   },
   "outputs": [],
   "source": [
    "# Path to your csv files (and iteration files):\n",
    "path='MD3/csv/'\n",
    "path_itr='MD3/final_res/'"
   ]
  },
  {
   "cell_type": "markdown",
   "metadata": {
    "id": "Od9yIKjipfZ_"
   },
   "source": [
    "## STEP 1 PLOTS\n",
    "\n",
    "Be sure to update with your csv filenames"
   ]
  },
  {
   "cell_type": "code",
   "execution_count": null,
   "metadata": {
    "colab": {
     "base_uri": "https://localhost:8080/"
    },
    "id": "1iazLPpJplHr",
    "outputId": "62ca54d1-44ab-4593-c636-2d1aba7d9ba6"
   },
   "outputs": [],
   "source": [
    "filename='STEP1-MD3_CR.csv'\n",
    "filename2='STEP1-MD3_CR2.csv'\n",
    "filename_itr='STEP1-MD3_CR2.iterationresults' #optional\n",
    "p=ut.read_csv_params(path,filename)\n",
    "p2=ut.read_csv_params(path,filename2)\n",
    "mparams=ut.merge_parameter(p,p2)\n",
    "print(mparams)\n",
    "\n",
    "e1=ut.read_csv_errors(path,filename)\n",
    "e2=ut.read_csv_errors(path,filename2)\n",
    "err=e1+e2\n",
    "print(err)"
   ]
  },
  {
   "cell_type": "markdown",
   "metadata": {
    "id": "So8mcLUz5pIo"
   },
   "source": [
    "Note: \n",
    "\n",
    "`mparams` is a dictionary, with keys being parameters and values being the optimal values found for that key.\n",
    "\n",
    "`err` is a list of the final errors for each calibration run.\n",
    "\n",
    "The dictionary of parameters and list of errors is then used to plot the histograms:"
   ]
  },
  {
   "cell_type": "code",
   "execution_count": null,
   "metadata": {
    "colab": {
     "base_uri": "https://localhost:8080/",
     "height": 616
    },
    "id": "4bNSuvRK18GB",
    "outputId": "6118c217-ac91-4594-aee6-ece5e4985c62"
   },
   "outputs": [],
   "source": [
    "#plot errors (use this to quickly identify runs with low/high error)\n",
    "ut.plot_err(err)\n",
    "#Get error clusters for histogram\n",
    "float_err=[float(x) for x in err]\n",
    "rounded_err=list(np.round(float_err,7))\n",
    "#Organize parameters values by kmeans clusters\n",
    "y_kmeans,centers=ut.get_err_clusters(float_err)"
   ]
  },
  {
   "cell_type": "code",
   "execution_count": null,
   "metadata": {},
   "outputs": [],
   "source": [
    "ut.plot_stacked_histograms(mparams,centers,y_kmeans,std=0)"
   ]
  },
  {
   "cell_type": "code",
   "execution_count": null,
   "metadata": {
    "colab": {
     "base_uri": "https://localhost:8080/",
     "height": 317
    },
    "id": "8L8mM2TM3oDO",
    "outputId": "c48e9b60-a7c2-4436-d0b0-0321a2482bee"
   },
   "outputs": [],
   "source": [
    "#plot iteration file errors\n",
    "#this does not work\n",
    "rounded_err_itr,idx,err_by_run=ut.load_sort_itr_err(path_itr,filename_itr)\n",
    "ut.plot_err_by_run(path,filename,err_by_run,idx, deg=1)"
   ]
  },
  {
   "cell_type": "markdown",
   "metadata": {
    "id": "8S9uInc_2qfg"
   },
   "source": [
    "## STEP 2 PLOTS\n",
    "\n",
    "Be sure to update with your csv filenames where appropriate"
   ]
  },
  {
   "cell_type": "code",
   "execution_count": null,
   "metadata": {
    "colab": {
     "base_uri": "https://localhost:8080/"
    },
    "id": "ldSjpWZg2xU4",
    "outputId": "77552484-ed72-44bb-ce9e-0a736ef8cd34"
   },
   "outputs": [],
   "source": [
    "filename='STEP2-MD3_CR.csv'\n",
    "filename_itr='STEP2-MD3_CR.iterationresults'\n",
    "mparams=ut.read_csv_params(path,filename)\n",
    "print(mparams)\n",
    "\n",
    "err=ut.read_csv_errors(path,filename)\n",
    "print(err)"
   ]
  },
  {
   "cell_type": "code",
   "execution_count": null,
   "metadata": {
    "colab": {
     "base_uri": "https://localhost:8080/",
     "height": 617
    },
    "id": "DEe71U7Q2zwR",
    "outputId": "d92db22f-b8b3-48f2-b59c-ef3268fb3161"
   },
   "outputs": [],
   "source": [
    "#plot errors (use this to quickly identify runs with low/high error)\n",
    "ut.plot_err(err)\n",
    "\n",
    "#Get error clusters for histogram\n",
    "float_err=[float(x) for x in err]\n",
    "rounded_err=list(np.round(float_err,7))\n",
    "#Organize parameters values by kmeans clusters\n",
    "y_kmeans,centers=ut.get_err_clusters(float_err)\n",
    "\n",
    "ut.plot_stacked_histograms(mparams,centers,y_kmeans,std=0)"
   ]
  },
  {
   "cell_type": "markdown",
   "metadata": {
    "id": "L5MF8W8929GN"
   },
   "source": [
    "## STEP 3C PLOTS\n",
    "\n",
    "Be sure to update with your csv filenames where appropriate"
   ]
  },
  {
   "cell_type": "code",
   "execution_count": null,
   "metadata": {
    "colab": {
     "base_uri": "https://localhost:8080/"
    },
    "id": "AfoR3HMl266h",
    "outputId": "6ae9ad79-f94a-4e8d-90c3-9d12fd7771ef"
   },
   "outputs": [],
   "source": [
    "filename='STEP3-MD3_CR1.csv'\n",
    "filename2='STEP3-MD3_CR2.csv'\n",
    "filename_itr='STEP3-MD3_CR1.iterationresults'\n",
    "p=ut.read_csv_params(path,filename)\n",
    "p2=ut.read_csv_params(path,filename2)\n",
    "mparams=ut.merge_parameter(p,p2)\n",
    "print(mparams)\n",
    "\n",
    "e1=ut.read_csv_errors(path,filename)\n",
    "e2=ut.read_csv_errors(path,'STEP3-MD3_CR2.csv')\n",
    "err=e1+e2\n",
    "print(err)"
   ]
  },
  {
   "cell_type": "code",
   "execution_count": null,
   "metadata": {
    "colab": {
     "base_uri": "https://localhost:8080/",
     "height": 1000
    },
    "id": "QUFX55Rj24D_",
    "outputId": "7d039f9d-47d7-460a-9052-1a8b36690ee4"
   },
   "outputs": [],
   "source": [
    "#plot errors (use this to quickly identify runs with low/high error)\n",
    "ut.plot_err(err)\n",
    "\n",
    "#Get error clusters for histogram\n",
    "float_err=[float(x) for x in err]\n",
    "rounded_err=list(np.round(float_err,7))\n",
    "#Organize parameters values by kmeans clusters\n",
    "y_kmeans,centers=ut.get_err_clusters(float_err)\n",
    "\n",
    "ut.plot_stacked_histograms(mparams,centers,y_kmeans,y=12,r=4,c=4,std=0)"
   ]
  },
  {
   "cell_type": "code",
   "execution_count": null,
   "metadata": {},
   "outputs": [],
   "source": []
  }
 ],
 "metadata": {
  "colab": {
   "provenance": [],
   "toc_visible": true
  },
  "kernelspec": {
   "display_name": "Python 3",
   "language": "python",
   "name": "python3"
  },
  "language_info": {
   "codemirror_mode": {
    "name": "ipython",
    "version": 3
   },
   "file_extension": ".py",
   "mimetype": "text/x-python",
   "name": "python",
   "nbconvert_exporter": "python",
   "pygments_lexer": "ipython3",
   "version": "3.8.8"
  }
 },
 "nbformat": 4,
 "nbformat_minor": 1
}
