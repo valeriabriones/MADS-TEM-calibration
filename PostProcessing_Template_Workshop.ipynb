{
 "cells": [
  {
   "cell_type": "markdown",
   "metadata": {
    "id": "6IyxbPGEzgT_"
   },
   "source": [
    "# Post-Processing Calibration Results\n",
    "\n",
    "Use this script to load and plot calibration results."
   ]
  },
  {
   "cell_type": "markdown",
   "metadata": {
    "id": "3sL3NihFzouR"
   },
   "source": [
    "## Setup\n",
    "\n",
    "First, you will need to load all necessary libraries, set up your access to google drive, and load necessary functions. \n",
    "\n"
   ]
  },
  {
   "cell_type": "code",
   "execution_count": null,
   "metadata": {
    "id": "8l6rtE65zY7c"
   },
   "outputs": [],
   "source": [
    "# Load necessary libraries\n",
    "import collections\n",
    "import sys\n",
    "import textwrap\n",
    "import math\n",
    "import csv\n",
    "import numpy as np \n",
    "import statistics as stat\n",
    "import pandas as pd\n",
    "from matplotlib import pyplot as plt\n",
    "from sklearn.cluster import KMeans\n",
    "from scipy.optimize import curve_fit\n",
    "import utils as ut"
   ]
  },
  {
   "cell_type": "markdown",
   "metadata": {
    "id": "8rdIzo-H1op_"
   },
   "source": [
    "## Define Paths\n",
    "\n",
    "`path` is the location of your csv files\n",
    "\n",
    "`path_itr` is the location of your iteration files (only needed if you'd like to look at the convergence of error)"
   ]
  },
  {
   "cell_type": "code",
   "execution_count": null,
   "metadata": {
    "id": "8AHQYbIK0gI5"
   },
   "outputs": [],
   "source": [
    "# Path to your csv files (and iteration files):\n",
    "path='MD3/csv/'\n",
    "path_itr='MD3/final_res/'"
   ]
  },
  {
   "cell_type": "markdown",
   "metadata": {
    "id": "Od9yIKjipfZ_"
   },
   "source": [
    "## STEP 1 PLOTS\n",
    "\n",
    "Be sure to update with your csv filenames"
   ]
  },
  {
   "cell_type": "code",
   "execution_count": null,
   "metadata": {
    "colab": {
     "base_uri": "https://localhost:8080/"
    },
    "id": "1iazLPpJplHr",
    "outputId": "62ca54d1-44ab-4593-c636-2d1aba7d9ba6"
   },
   "outputs": [],
   "source": [
    "filenames = ['STEP1-MD3_CR.csv', 'STEP1-MD3_CR2.csv']\n",
    "model_filenames=['STEP1-MD3_CR_model.csv', 'STEP1-MD3_CR2_model.csv']\n",
    "filename_itr='STEP1-MD3_CR2.iterationresults'\n",
    "targets='GPP'"
   ]
  },
  {
   "cell_type": "code",
   "execution_count": null,
   "metadata": {},
   "outputs": [],
   "source": [
    "\n",
    "#load parameter dictionary and plot optimal parameters\n",
    "\n",
    "df_params = ut.read_all_csv(path, filenames, type='params')\n",
    "#pandas reads csv into a dataframe. to use stacked histogram, we need a dictionary of optimal params\n",
    "#Change index to parameter names, transpose df, rows 4:end are optimal params, and convert to a dictionary:\n",
    "mparams=df_params.set_index('parameters').T.iloc[4:,:].to_dict('list')\n",
    "print(mparams)\n",
    "df_params.iloc[:,5:].plot(logy=True, xlabel=\"param_id\", title=\"optimal parameters\", style=\"o\")"
   ]
  },
  {
   "cell_type": "code",
   "execution_count": null,
   "metadata": {},
   "outputs": [],
   "source": [
    "#plot errors\n",
    "\n",
    "err=ut.read_all_csv_errors(path, filenames)\n",
    "print(err)\n",
    "ut.plot_err(err)"
   ]
  },
  {
   "cell_type": "markdown",
   "metadata": {
    "id": "So8mcLUz5pIo"
   },
   "source": [
    "Note: \n",
    "\n",
    "`mparams` is a dictionary, with keys being parameters and values being the optimal values found for that key.\n",
    "\n",
    "`err` is a list of the final errors for each calibration run.\n",
    "\n",
    "The dictionary of parameters and list of errors is used to plot histograms."
   ]
  },
  {
   "cell_type": "code",
   "execution_count": null,
   "metadata": {},
   "outputs": [],
   "source": [
    "#plot match-plots (normal and log scale)\n",
    "\n",
    "df_model = ut.read_all_csv(path, model_filenames, type='model')\n",
    "ut.match_plot(df_model,df_params,targets)"
   ]
  },
  {
   "cell_type": "code",
   "execution_count": null,
   "metadata": {
    "colab": {
     "base_uri": "https://localhost:8080/",
     "height": 616
    },
    "id": "4bNSuvRK18GB",
    "outputId": "6118c217-ac91-4594-aee6-ece5e4985c62"
   },
   "outputs": [],
   "source": [
    "#Get error clusters\n",
    "float_err=[float(x) for x in err]\n",
    "rounded_err=list(np.round(float_err,7))\n",
    "y_kmeans,centers=ut.get_err_clusters(float_err)\n",
    "\n",
    "#Organize parameters values by kmeans error clusters\n",
    "ut.plot_stacked_histograms(mparams,centers,y_kmeans,std=0)"
   ]
  },
  {
   "cell_type": "code",
   "execution_count": null,
   "metadata": {
    "colab": {
     "base_uri": "https://localhost:8080/",
     "height": 317
    },
    "id": "8L8mM2TM3oDO",
    "outputId": "c48e9b60-a7c2-4436-d0b0-0321a2482bee"
   },
   "outputs": [],
   "source": [
    "#plot iteration file errors\n",
    "rounded_err_itr,idx,err_by_run=ut.load_sort_itr_err(path_itr,filename_itr)\n",
    "ut.plot_err_by_run(err_by_run,idx, deg=1)"
   ]
  },
  {
   "cell_type": "markdown",
   "metadata": {
    "id": "8S9uInc_2qfg"
   },
   "source": [
    "## STEP 2 PLOTS\n",
    "\n",
    "Be sure to update with your csv filenames where appropriate"
   ]
  },
  {
   "cell_type": "code",
   "execution_count": null,
   "metadata": {},
   "outputs": [],
   "source": [
    "filenames = ['STEP2-MD3_CR.csv']\n",
    "model_filenames=['STEP2-MD3_CR_model.csv']\n",
    "filename_itr='STEP2-MD3_CR.csv.iterationresults'\n",
    "targets='NPP'"
   ]
  },
  {
   "cell_type": "code",
   "execution_count": null,
   "metadata": {},
   "outputs": [],
   "source": [
    "#load parameter dictionary and plot optimal parameters\n",
    "\n",
    "df_params = ut.read_all_csv(path, filenames, type='params')\n",
    "mparams=df_params.set_index('parameters').T.iloc[4:,:].to_dict('list')\n",
    "df_params.iloc[:,5:].plot(logy=True, xlabel=\"param_id\", title=\"optimal parameters\", style=\"o\")"
   ]
  },
  {
   "cell_type": "code",
   "execution_count": null,
   "metadata": {
    "colab": {
     "base_uri": "https://localhost:8080/",
     "height": 617
    },
    "id": "DEe71U7Q2zwR",
    "outputId": "d92db22f-b8b3-48f2-b59c-ef3268fb3161"
   },
   "outputs": [],
   "source": [
    "#plot errors\n",
    "\n",
    "err=ut.read_all_csv_errors(path, filenames)\n",
    "print(err)\n",
    "ut.plot_err(err)"
   ]
  },
  {
   "cell_type": "code",
   "execution_count": null,
   "metadata": {},
   "outputs": [],
   "source": [
    "#plot match-plots (normal and log scale)\n",
    "\n",
    "df_model = ut.read_all_csv(path, model_filenames, type='model')\n",
    "ut.match_plot(df_model,df_params,targets)"
   ]
  },
  {
   "cell_type": "code",
   "execution_count": null,
   "metadata": {},
   "outputs": [],
   "source": [
    "#Get error clusters\n",
    "float_err=[float(x) for x in err]\n",
    "rounded_err=list(np.round(float_err,7))\n",
    "y_kmeans,centers=ut.get_err_clusters(float_err)\n",
    "\n",
    "#Organize parameters values by kmeans error clusters\n",
    "ut.plot_stacked_histograms(mparams,centers,y_kmeans,std=0)"
   ]
  },
  {
   "cell_type": "markdown",
   "metadata": {
    "id": "L5MF8W8929GN"
   },
   "source": [
    "## STEP 3C PLOTS\n",
    "\n",
    "Be sure to update with your csv filenames where appropriate"
   ]
  },
  {
   "cell_type": "code",
   "execution_count": null,
   "metadata": {
    "colab": {
     "base_uri": "https://localhost:8080/"
    },
    "id": "AfoR3HMl266h",
    "outputId": "6ae9ad79-f94a-4e8d-90c3-9d12fd7771ef"
   },
   "outputs": [],
   "source": [
    "filenames = ['STEP3-MD3_CR1.csv', 'STEP3-MD3_CR2.csv', 'STEP3-MD3_CR3.csv', 'STEP3-MD3_CR4.csv',\n",
    "             'STEP3-MD3_CR5.csv', 'STEP3-MD3_CR6.csv']\n",
    "model_filenames=['STEP3-MD3_CR1_model.csv', 'STEP3-MD3_CR2_model.csv', 'STEP3-MD3_CR3_model.csv',\n",
    "                'STEP3-MD3_CR4_model.csv', 'STEP3-MD3_CR5_model.csv', 'STEP3-MD3_CR6_model.csv']\n",
    "filename_itr='STEP3-MD3_CR1.iterationresults'\n",
    "targets='NPP/VEGC'"
   ]
  },
  {
   "cell_type": "code",
   "execution_count": null,
   "metadata": {},
   "outputs": [],
   "source": [
    "#load parameter dictionary and plot optimal parameters\n",
    "\n",
    "df_params = ut.read_all_csv(path, filenames, type='params')\n",
    "mparams=df_params.set_index('parameters').T.iloc[4:,:].to_dict('list')\n",
    "df_params.iloc[:,5:].plot(logy=True, xlabel=\"param_id\", title=\"optimal parameters\", style=\"o\")"
   ]
  },
  {
   "cell_type": "code",
   "execution_count": null,
   "metadata": {},
   "outputs": [],
   "source": [
    "#plot errors\n",
    "\n",
    "err=ut.read_all_csv_errors(path, filenames)\n",
    "ut.plot_err(err)"
   ]
  },
  {
   "cell_type": "code",
   "execution_count": null,
   "metadata": {
    "colab": {
     "base_uri": "https://localhost:8080/",
     "height": 1000
    },
    "id": "QUFX55Rj24D_",
    "outputId": "7d039f9d-47d7-460a-9052-1a8b36690ee4"
   },
   "outputs": [],
   "source": [
    "#plot match-plots (normal and log scale)\n",
    "\n",
    "df_model = ut.read_all_csv(path, model_filenames, type='model')\n",
    "ut.match_plot(df_model,df_params,targets)"
   ]
  },
  {
   "cell_type": "code",
   "execution_count": null,
   "metadata": {},
   "outputs": [],
   "source": [
    "#Get error clusters\n",
    "float_err=[float(x) for x in err]\n",
    "rounded_err=list(np.round(float_err,7))\n",
    "y_kmeans,centers=ut.get_err_clusters(float_err)\n",
    "\n",
    "#Organize parameters values by kmeans error clusters\n",
    "ut.plot_stacked_histograms(mparams,centers,y_kmeans,x=24,y=20,r=4,c=4,std=0)"
   ]
  }
 ],
 "metadata": {
  "colab": {
   "provenance": [],
   "toc_visible": true
  },
  "kernelspec": {
   "display_name": "Python 3",
   "language": "python",
   "name": "python3"
  },
  "language_info": {
   "codemirror_mode": {
    "name": "ipython",
    "version": 3
   },
   "file_extension": ".py",
   "mimetype": "text/x-python",
   "name": "python",
   "nbconvert_exporter": "python",
   "pygments_lexer": "ipython3",
   "version": "3.8.8"
  },
  "vscode": {
   "interpreter": {
    "hash": "916dbcbb3f70747c44a77c7bcd40155683ae19c65e1c03b4aa3499c5328201f1"
   }
  }
 },
 "nbformat": 4,
 "nbformat_minor": 1
}
